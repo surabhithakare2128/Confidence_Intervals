{
 "cells": [
  {
   "cell_type": "code",
   "execution_count": 1,
   "metadata": {},
   "outputs": [],
   "source": [
    "import numpy as np\n",
    "import pandas as pd\n",
    "import matplotlib.pyplot as plt\n",
    "%matplotlib inline\n",
    "\n",
    "coffee_full = pd.read_csv('coffee_dataset.csv')\n",
    "coffee_red = coffee_full.sample(200)"
   ]
  },
  {
   "cell_type": "code",
   "execution_count": 2,
   "metadata": {},
   "outputs": [
    {
     "data": {
      "text/plain": [
       "1.74241660500617"
      ]
     },
     "execution_count": 2,
     "metadata": {},
     "output_type": "execute_result"
    }
   ],
   "source": [
    "bootsample = coffee_red.sample(200,replace=True)\n",
    "mean_coffee_drinkers = bootsample[bootsample['drinks_coffee'] == True]['height'].mean()\n",
    "mean_noncoffee_drinkers = bootsample[bootsample['drinks_coffee'] == False]['height'].mean()\n",
    "\n",
    "mean_coffee_drinkers - mean_noncoffee_drinkers #difference in means"
   ]
  },
  {
   "cell_type": "code",
   "execution_count": 3,
   "metadata": {},
   "outputs": [],
   "source": [
    "#difference for 10000 iterations\n",
    "\n",
    "diff = []\n",
    "\n",
    "for _ in range(10000):\n",
    "    bootsample = coffee_red.sample(200,replace=True)\n",
    "    mean_coffee_drinkers = bootsample[bootsample['drinks_coffee'] == True]['height'].mean()\n",
    "    mean_noncoffee_drinkers = bootsample[bootsample['drinks_coffee'] == False]['height'].mean()\n",
    "    diff.append(mean_coffee_drinkers - mean_noncoffee_drinkers)"
   ]
  },
  {
   "cell_type": "code",
   "execution_count": 4,
   "metadata": {},
   "outputs": [
    {
     "data": {
      "text/plain": [
       "(array([3.000e+00, 3.100e+01, 2.640e+02, 1.172e+03, 2.831e+03, 3.237e+03,\n",
       "        1.865e+03, 5.180e+02, 7.100e+01, 8.000e+00]),\n",
       " array([0.04339085, 0.43408308, 0.82477531, 1.21546754, 1.60615977,\n",
       "        1.996852  , 2.38754424, 2.77823647, 3.1689287 , 3.55962093,\n",
       "        3.95031316]),\n",
       " <a list of 10 Patch objects>)"
      ]
     },
     "execution_count": 4,
     "metadata": {},
     "output_type": "execute_result"
    },
    {
     "data": {
      "image/png": "[encoded data removed]",
      "text/plain": [
       "<Figure size 432x288 with 1 Axes>"
      ]
     },
     "metadata": {},
     "output_type": "display_data"
    }
   ],
   "source": [
    "plt.hist(diff)"
   ]
  },
  {
   "cell_type": "code",
   "execution_count": 5,
   "metadata": {},
   "outputs": [
    {
     "data": {
      "text/plain": [
       "(1.18180173554473, 2.96452006408926)"
      ]
     },
     "execution_count": 5,
     "metadata": {},
     "output_type": "execute_result"
    }
   ],
   "source": [
    "np.percentile(diff, 2.5), np.percentile(diff,97.5)\n",
    "\n",
    "#we are cutting off bottom 2.5% and top 2.5%. We build 95% in the middle portion"
   ]
  },
  {
   "cell_type": "markdown",
   "metadata": {},
   "source": [
    "## The difference was built at 95% confidence level. Since the difference between means of coffee drinkers - noncoffee drikers is 1.18 and 2.96 and it doesn't contain zero, we have evidence of the mean height for coffee drinkers is larger than non-coffee drinkers"
   ]
  },
  {
   "cell_type": "code",
   "execution_count": null,
   "metadata": {},
   "outputs": [],
   "source": []
  }
 ],
 "metadata": {
  "kernelspec": {
   "display_name": "Python [default]",
   "language": "python",
   "name": "python3"
  },
  "language_info": {
   "codemirror_mode": {
    "name": "ipython",
    "version": 3
   },
   "file_extension": ".py",
   "mimetype": "text/x-python",
   "name": "python",
   "nbconvert_exporter": "python",
   "pygments_lexer": "ipython3",
   "version": "3.6.4"
  }
 },
 "nbformat": 4,
 "nbformat_minor": 2
}
